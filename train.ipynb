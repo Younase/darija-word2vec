{
 "cells": [
  {
   "cell_type": "markdown",
   "id": "2cff4596",
   "metadata": {},
   "source": [
    "This is an example notebook to create a Word2Vec model using darija dataset"
   ]
  },
  {
   "cell_type": "markdown",
   "id": "a4d6a8d8",
   "metadata": {},
   "source": [
    "## Imports"
   ]
  },
  {
   "cell_type": "code",
   "execution_count": 1,
   "id": "0bd5b276",
   "metadata": {},
   "outputs": [],
   "source": [
    "import pandas as pd  # For data handling\n",
    "import multiprocessing\n",
    "\n",
    "import nltk\n",
    "from nltk.tokenize import RegexpTokenizer\n",
    "\n",
    "from gensim.models.phrases import Phrases, Phraser\n",
    "from gensim.models import Word2Vec\n",
    "\n",
    "import logging  # Setting up the loggings to monitor gensim\n",
    "logging.basicConfig(format=\"%(levelname)s - %(asctime)s: %(message)s\", datefmt= '%H:%M:%S', level=logging.INFO)"
   ]
  },
  {
   "cell_type": "markdown",
   "id": "3e6eec5f",
   "metadata": {},
   "source": [
    "## Load Data"
   ]
  },
  {
   "cell_type": "code",
   "execution_count": 2,
   "id": "ba2565a4",
   "metadata": {},
   "outputs": [
    {
     "data": {
      "text/plain": [
       "(10001, 2)"
      ]
     },
     "execution_count": 2,
     "metadata": {},
     "output_type": "execute_result"
    }
   ],
   "source": [
    "df = pd.read_csv('./dataset/sentences.csv')\n",
    "df.shape"
   ]
  },
  {
   "cell_type": "code",
   "execution_count": 3,
   "id": "2c784517",
   "metadata": {},
   "outputs": [
    {
     "data": {
      "text/html": [
       "<div>\n",
       "<style scoped>\n",
       "    .dataframe tbody tr th:only-of-type {\n",
       "        vertical-align: middle;\n",
       "    }\n",
       "\n",
       "    .dataframe tbody tr th {\n",
       "        vertical-align: top;\n",
       "    }\n",
       "\n",
       "    .dataframe thead th {\n",
       "        text-align: right;\n",
       "    }\n",
       "</style>\n",
       "<table border=\"1\" class=\"dataframe\">\n",
       "  <thead>\n",
       "    <tr style=\"text-align: right;\">\n",
       "      <th></th>\n",
       "      <th>english</th>\n",
       "      <th>darija</th>\n",
       "    </tr>\n",
       "  </thead>\n",
       "  <tbody>\n",
       "    <tr>\n",
       "      <th>0</th>\n",
       "      <td>They're hiding something, I'm sure!</td>\n",
       "      <td>homa mkhbbyin chi haja, ana mti99en!</td>\n",
       "    </tr>\n",
       "    <tr>\n",
       "      <th>1</th>\n",
       "      <td>It's obvious they're trying to keep their cool.</td>\n",
       "      <td>bayna homa tay7awlo ib9aw mbrrdin.</td>\n",
       "    </tr>\n",
       "    <tr>\n",
       "      <th>2</th>\n",
       "      <td>the hotels don't seem very comfortable.</td>\n",
       "      <td>loTilat mabaynach fihom mori7in bzzaf.</td>\n",
       "    </tr>\n",
       "    <tr>\n",
       "      <th>3</th>\n",
       "      <td>he is probably about to be laid off by head of...</td>\n",
       "      <td>ghaliban ghayjrriw 3lih mn lkhdma!</td>\n",
       "    </tr>\n",
       "    <tr>\n",
       "      <th>4</th>\n",
       "      <td>of course he's depressive!</td>\n",
       "      <td>Tab3an rah mkta2eb!</td>\n",
       "    </tr>\n",
       "  </tbody>\n",
       "</table>\n",
       "</div>"
      ],
      "text/plain": [
       "                                             english  \\\n",
       "0                They're hiding something, I'm sure!   \n",
       "1    It's obvious they're trying to keep their cool.   \n",
       "2            the hotels don't seem very comfortable.   \n",
       "3  he is probably about to be laid off by head of...   \n",
       "4                         of course he's depressive!   \n",
       "\n",
       "                                   darija  \n",
       "0    homa mkhbbyin chi haja, ana mti99en!  \n",
       "1      bayna homa tay7awlo ib9aw mbrrdin.  \n",
       "2  loTilat mabaynach fihom mori7in bzzaf.  \n",
       "3      ghaliban ghayjrriw 3lih mn lkhdma!  \n",
       "4                     Tab3an rah mkta2eb!  "
      ]
     },
     "execution_count": 3,
     "metadata": {},
     "output_type": "execute_result"
    }
   ],
   "source": [
    "df.head()"
   ]
  },
  {
   "cell_type": "markdown",
   "id": "244a4db8",
   "metadata": {},
   "source": [
    "## Check for missing values"
   ]
  },
  {
   "cell_type": "code",
   "execution_count": 4,
   "id": "7a32d022",
   "metadata": {
    "scrolled": true
   },
   "outputs": [
    {
     "data": {
      "text/plain": [
       "english    0\n",
       "darija     0\n",
       "dtype: int64"
      ]
     },
     "execution_count": 4,
     "metadata": {},
     "output_type": "execute_result"
    }
   ],
   "source": [
    "df.isnull().sum()"
   ]
  },
  {
   "cell_type": "markdown",
   "id": "6b0bd1d5",
   "metadata": {},
   "source": [
    "## Cleaning"
   ]
  },
  {
   "cell_type": "code",
   "execution_count": 5,
   "id": "ef6da2f8",
   "metadata": {},
   "outputs": [
    {
     "data": {
      "text/plain": [
       "0          homa mkhbbyin chi haja, ana mti99en!\n",
       "1            bayna homa tay7awlo ib9aw mbrrdin.\n",
       "2        loTilat mabaynach fihom mori7in bzzaf.\n",
       "3            ghaliban ghayjrriw 3lih mn lkhdma!\n",
       "4                           Tab3an rah mkta2eb!\n",
       "                          ...                  \n",
       "9996                    makaynch ttamarin lyoum\n",
       "9997                              rje3 lblaStek\n",
       "9998                     wach mcha 3lik TTobis?\n",
       "9999                     chkoun tgheyyeb lyoum?\n",
       "10000                          baraka mn l8eDra\n",
       "Name: darija, Length: 10001, dtype: object"
      ]
     },
     "execution_count": 5,
     "metadata": {},
     "output_type": "execute_result"
    }
   ],
   "source": [
    "df['darija']"
   ]
  },
  {
   "cell_type": "code",
   "execution_count": 6,
   "id": "ddad8d1a",
   "metadata": {},
   "outputs": [],
   "source": [
    "tokenizer = RegexpTokenizer(r'\\w+')\n",
    "\n",
    "tokenized_df=[tokenizer.tokenize(sent.lower()) for sent in df['darija']]\n"
   ]
  },
  {
   "cell_type": "code",
   "execution_count": 7,
   "id": "af725619",
   "metadata": {},
   "outputs": [
    {
     "data": {
      "text/plain": [
       "[['homa', 'mkhbbyin', 'chi', 'haja', 'ana', 'mti99en'],\n",
       " ['bayna', 'homa', 'tay7awlo', 'ib9aw', 'mbrrdin'],\n",
       " ['lotilat', 'mabaynach', 'fihom', 'mori7in', 'bzzaf'],\n",
       " ['ghaliban', 'ghayjrriw', '3lih', 'mn', 'lkhdma'],\n",
       " ['tab3an', 'rah', 'mkta2eb'],\n",
       " ['tayballia', 'ghanmchi'],\n",
       " ['ara', 'lia', 'dak', 'sac'],\n",
       " ['ghanmred'],\n",
       " ['knt', 'dima', '3arf', 'annaha', 'bghatna', 'nmoutou'],\n",
       " ['bghit', 'n3ref', 'ch7al', 'b9a', 'lia', 'tlwe9t', 'bach', 'n9ra']]"
      ]
     },
     "execution_count": 7,
     "metadata": {},
     "output_type": "execute_result"
    }
   ],
   "source": [
    "tokenized_df[:10]"
   ]
  },
  {
   "cell_type": "markdown",
   "id": "653ddfa4",
   "metadata": {},
   "source": [
    "### Generate some stats"
   ]
  },
  {
   "cell_type": "code",
   "execution_count": 8,
   "id": "3b27b443",
   "metadata": {
    "scrolled": false
   },
   "outputs": [
    {
     "data": {
      "text/plain": [
       "[('wach', 777),\n",
       " ('o', 625),\n",
       " ('dyal', 541),\n",
       " ('f', 525),\n",
       " ('ghadi', 517),\n",
       " ('ana', 513),\n",
       " ('chi', 496),\n",
       " ('l', 409),\n",
       " ('3la', 397),\n",
       " ('mn', 394)]"
      ]
     },
     "execution_count": 8,
     "metadata": {},
     "output_type": "execute_result"
    }
   ],
   "source": [
    "all_df=sum(tokenized_df,[])\n",
    "all_words=nltk.FreqDist(w for w in all_df if not w.isnumeric() )\n",
    "all_words.most_common()[:10]"
   ]
  },
  {
   "cell_type": "code",
   "execution_count": 9,
   "id": "60dbb463",
   "metadata": {},
   "outputs": [
    {
     "data": {
      "text/plain": [
       "44363"
      ]
     },
     "execution_count": 9,
     "metadata": {},
     "output_type": "execute_result"
    }
   ],
   "source": [
    "len(all_df)"
   ]
  },
  {
   "cell_type": "code",
   "execution_count": 10,
   "id": "591b31d1",
   "metadata": {},
   "outputs": [],
   "source": [
    "lengths=[len(sent) for sent in tokenized_df]\n",
    "lengths_dist=nltk.FreqDist(l for l in lengths)"
   ]
  },
  {
   "cell_type": "code",
   "execution_count": 11,
   "id": "c68061de",
   "metadata": {},
   "outputs": [
    {
     "data": {
      "image/png": "[encoded data removed]",
      "text/plain": [
       "<Figure size 640x480 with 1 Axes>"
      ]
     },
     "metadata": {},
     "output_type": "display_data"
    },
    {
     "data": {
      "text/plain": [
       "<Axes: xlabel='Samples', ylabel='Counts'>"
      ]
     },
     "execution_count": 11,
     "metadata": {},
     "output_type": "execute_result"
    }
   ],
   "source": [
    "lengths_dist.plot()"
   ]
  },
  {
   "cell_type": "markdown",
   "id": "df54fcc0",
   "metadata": {},
   "source": [
    "## Using Phrases to detect common phrases (we use bigrams)"
   ]
  },
  {
   "cell_type": "code",
   "execution_count": 12,
   "id": "f5da091d",
   "metadata": {},
   "outputs": [
    {
     "name": "stderr",
     "output_type": "stream",
     "text": [
      "INFO - 08:50:40: collecting all words and their counts\n",
      "INFO - 08:50:40: PROGRESS: at sentence #0, processed 0 words and 0 word types\n",
      "INFO - 08:50:40: PROGRESS: at sentence #10000, processed 44360 words and 40225 word types\n",
      "INFO - 08:50:40: collected 40226 token types (unigram + bigrams) from a corpus of 44363 words and 10001 sentences\n",
      "INFO - 08:50:40: merged Phrases<40226 vocab, min_count=5, threshold=10.0, max_vocab_size=40000000>\n",
      "INFO - 08:50:40: Phrases lifecycle event {'msg': 'built Phrases<40226 vocab, min_count=5, threshold=10.0, max_vocab_size=40000000> in 0.03s', 'datetime': '2024-01-29T08:50:40.151022', 'gensim': '4.3.2', 'python': '3.10.6 (main, Oct  7 2022, 20:19:58) [GCC 11.2.0]', 'platform': 'Linux-6.5.0-15-generic-x86_64-with-glibc2.35', 'event': 'created'}\n"
     ]
    }
   ],
   "source": [
    "phrases = Phrases(tokenized_df)\n"
   ]
  },
  {
   "cell_type": "code",
   "execution_count": 13,
   "id": "3a984868",
   "metadata": {},
   "outputs": [
    {
     "name": "stderr",
     "output_type": "stream",
     "text": [
      "INFO - 08:50:40: exporting phrases from Phrases<40226 vocab, min_count=5, threshold=10.0, max_vocab_size=40000000>\n",
      "INFO - 08:50:40: FrozenPhrases lifecycle event {'msg': 'exported FrozenPhrases<112 phrases, min_count=5, threshold=10.0> from Phrases<40226 vocab, min_count=5, threshold=10.0, max_vocab_size=40000000> in 0.04s', 'datetime': '2024-01-29T08:50:40.192176', 'gensim': '4.3.2', 'python': '3.10.6 (main, Oct  7 2022, 20:19:58) [GCC 11.2.0]', 'platform': 'Linux-6.5.0-15-generic-x86_64-with-glibc2.35', 'event': 'created'}\n"
     ]
    }
   ],
   "source": [
    "bigram = Phraser(phrases)\n"
   ]
  },
  {
   "cell_type": "markdown",
   "id": "373e0d89",
   "metadata": {},
   "source": [
    "## Training the model"
   ]
  },
  {
   "cell_type": "code",
   "execution_count": 14,
   "id": "471073ac",
   "metadata": {},
   "outputs": [],
   "source": [
    "cores = multiprocessing.cpu_count() # number of cores to set training workers\n"
   ]
  },
  {
   "cell_type": "code",
   "execution_count": 15,
   "id": "58c06fd5",
   "metadata": {},
   "outputs": [
    {
     "name": "stderr",
     "output_type": "stream",
     "text": [
      "INFO - 08:50:40: Word2Vec lifecycle event {'params': 'Word2Vec<vocab=0, vector_size=300, alpha=0.025>', 'datetime': '2024-01-29T08:50:40.199067', 'gensim': '4.3.2', 'python': '3.10.6 (main, Oct  7 2022, 20:19:58) [GCC 11.2.0]', 'platform': 'Linux-6.5.0-15-generic-x86_64-with-glibc2.35', 'event': 'created'}\n"
     ]
    }
   ],
   "source": [
    "# start with default parameters\n",
    "w2v_model = Word2Vec(min_count=5,\n",
    "                     window=5,\n",
    "                     vector_size=300,\n",
    "                     sample=0.001, \n",
    "                     alpha=0.025, \n",
    "                     min_alpha=0.0001, \n",
    "                     negative=20,\n",
    "                     workers=cores-2)"
   ]
  },
  {
   "cell_type": "code",
   "execution_count": 16,
   "id": "6f2fa019",
   "metadata": {},
   "outputs": [
    {
     "name": "stderr",
     "output_type": "stream",
     "text": [
      "INFO - 08:50:40: collecting all words and their counts\n",
      "INFO - 08:50:40: PROGRESS: at sentence #0, processed 0 words, keeping 0 word types\n",
      "INFO - 08:50:40: PROGRESS: at sentence #10000, processed 44360 words, keeping 12090 word types\n",
      "INFO - 08:50:40: collected 12090 word types from a corpus of 44363 raw words and 10001 sentences\n",
      "INFO - 08:50:40: Creating a fresh vocabulary\n",
      "INFO - 08:50:40: Word2Vec lifecycle event {'msg': 'effective_min_count=5 retains 1288 unique words (10.65% of original 12090, drops 10802)', 'datetime': '2024-01-29T08:50:40.216540', 'gensim': '4.3.2', 'python': '3.10.6 (main, Oct  7 2022, 20:19:58) [GCC 11.2.0]', 'platform': 'Linux-6.5.0-15-generic-x86_64-with-glibc2.35', 'event': 'prepare_vocab'}\n",
      "INFO - 08:50:40: Word2Vec lifecycle event {'msg': 'effective_min_count=5 leaves 29130 word corpus (65.66% of original 44363, drops 15233)', 'datetime': '2024-01-29T08:50:40.217124', 'gensim': '4.3.2', 'python': '3.10.6 (main, Oct  7 2022, 20:19:58) [GCC 11.2.0]', 'platform': 'Linux-6.5.0-15-generic-x86_64-with-glibc2.35', 'event': 'prepare_vocab'}\n",
      "INFO - 08:50:40: deleting the raw counts dictionary of 12090 items\n",
      "INFO - 08:50:40: sample=0.001 downsamples 66 most-common words\n",
      "INFO - 08:50:40: Word2Vec lifecycle event {'msg': 'downsampling leaves estimated 22707.566671830788 word corpus (78.0%% of prior 29130)', 'datetime': '2024-01-29T08:50:40.222726', 'gensim': '4.3.2', 'python': '3.10.6 (main, Oct  7 2022, 20:19:58) [GCC 11.2.0]', 'platform': 'Linux-6.5.0-15-generic-x86_64-with-glibc2.35', 'event': 'prepare_vocab'}\n",
      "INFO - 08:50:40: estimated required memory for 1288 words and 300 dimensions: 3735200 bytes\n",
      "INFO - 08:50:40: resetting layer weights\n",
      "INFO - 08:50:40: Word2Vec lifecycle event {'update': False, 'trim_rule': 'None', 'datetime': '2024-01-29T08:50:40.232376', 'gensim': '4.3.2', 'python': '3.10.6 (main, Oct  7 2022, 20:19:58) [GCC 11.2.0]', 'platform': 'Linux-6.5.0-15-generic-x86_64-with-glibc2.35', 'event': 'build_vocab'}\n"
     ]
    }
   ],
   "source": [
    "w2v_model.build_vocab(tokenized_df, progress_per=10000)\n"
   ]
  },
  {
   "cell_type": "code",
   "execution_count": 17,
   "id": "7b8294d2",
   "metadata": {
    "scrolled": true
   },
   "outputs": [
    {
     "name": "stderr",
     "output_type": "stream",
     "text": [
      "INFO - 08:50:40: Word2Vec lifecycle event {'msg': 'training model with 10 workers on 1288 vocabulary and 300 features, using sg=0 hs=0 sample=0.001 negative=20 window=5 shrink_windows=True', 'datetime': '2024-01-29T08:50:40.235727', 'gensim': '4.3.2', 'python': '3.10.6 (main, Oct  7 2022, 20:19:58) [GCC 11.2.0]', 'platform': 'Linux-6.5.0-15-generic-x86_64-with-glibc2.35', 'event': 'train'}\n",
      "INFO - 08:50:40: EPOCH 0: training on 44363 raw words (22670 effective words) took 0.0s, 757091 effective words/s\n",
      "INFO - 08:50:40: EPOCH 1: training on 44363 raw words (22696 effective words) took 0.0s, 809658 effective words/s\n",
      "INFO - 08:50:40: EPOCH 2: training on 44363 raw words (22587 effective words) took 0.0s, 775848 effective words/s\n",
      "INFO - 08:50:40: EPOCH 3: training on 44363 raw words (22702 effective words) took 0.0s, 767334 effective words/s\n",
      "INFO - 08:50:40: EPOCH 4: training on 44363 raw words (22689 effective words) took 0.0s, 769317 effective words/s\n",
      "INFO - 08:50:40: EPOCH 5: training on 44363 raw words (22644 effective words) took 0.0s, 797418 effective words/s\n",
      "INFO - 08:50:40: EPOCH 6: training on 44363 raw words (22775 effective words) took 0.0s, 674854 effective words/s\n",
      "INFO - 08:50:40: EPOCH 7: training on 44363 raw words (22627 effective words) took 0.0s, 753889 effective words/s\n",
      "INFO - 08:50:40: EPOCH 8: training on 44363 raw words (22686 effective words) took 0.0s, 738546 effective words/s\n",
      "INFO - 08:50:40: EPOCH 9: training on 44363 raw words (22639 effective words) took 0.0s, 673677 effective words/s\n",
      "INFO - 08:50:40: EPOCH 10: training on 44363 raw words (22759 effective words) took 0.0s, 785585 effective words/s\n",
      "INFO - 08:50:40: EPOCH 11: training on 44363 raw words (22681 effective words) took 0.0s, 790093 effective words/s\n",
      "INFO - 08:50:40: EPOCH 12: training on 44363 raw words (22683 effective words) took 0.0s, 654021 effective words/s\n",
      "INFO - 08:50:40: EPOCH 13: training on 44363 raw words (22656 effective words) took 0.0s, 795790 effective words/s\n",
      "INFO - 08:50:40: EPOCH 14: training on 44363 raw words (22830 effective words) took 0.0s, 760135 effective words/s\n",
      "INFO - 08:50:40: EPOCH 15: training on 44363 raw words (22650 effective words) took 0.0s, 763469 effective words/s\n",
      "INFO - 08:50:40: EPOCH 16: training on 44363 raw words (22740 effective words) took 0.0s, 692284 effective words/s\n",
      "INFO - 08:50:40: EPOCH 17: training on 44363 raw words (22719 effective words) took 0.0s, 798417 effective words/s\n",
      "INFO - 08:50:40: EPOCH 18: training on 44363 raw words (22729 effective words) took 0.0s, 692369 effective words/s\n",
      "INFO - 08:50:40: EPOCH 19: training on 44363 raw words (22742 effective words) took 0.0s, 802258 effective words/s\n",
      "INFO - 08:50:41: EPOCH 20: training on 44363 raw words (22709 effective words) took 0.0s, 777687 effective words/s\n",
      "INFO - 08:50:41: EPOCH 21: training on 44363 raw words (22633 effective words) took 0.0s, 768221 effective words/s\n",
      "INFO - 08:50:41: EPOCH 22: training on 44363 raw words (22673 effective words) took 0.0s, 777098 effective words/s\n",
      "INFO - 08:50:41: EPOCH 23: training on 44363 raw words (22711 effective words) took 0.0s, 787221 effective words/s\n",
      "INFO - 08:50:41: EPOCH 24: training on 44363 raw words (22672 effective words) took 0.0s, 792752 effective words/s\n",
      "INFO - 08:50:41: EPOCH 25: training on 44363 raw words (22775 effective words) took 0.0s, 799086 effective words/s\n",
      "INFO - 08:50:41: EPOCH 26: training on 44363 raw words (22696 effective words) took 0.0s, 778378 effective words/s\n",
      "INFO - 08:50:41: EPOCH 27: training on 44363 raw words (22760 effective words) took 0.0s, 798407 effective words/s\n",
      "INFO - 08:50:41: EPOCH 28: training on 44363 raw words (22658 effective words) took 0.0s, 778702 effective words/s\n",
      "INFO - 08:50:41: EPOCH 29: training on 44363 raw words (22754 effective words) took 0.0s, 792758 effective words/s\n",
      "INFO - 08:50:41: EPOCH 30: training on 44363 raw words (22775 effective words) took 0.0s, 808174 effective words/s\n",
      "INFO - 08:50:41: EPOCH 31: training on 44363 raw words (22709 effective words) took 0.0s, 773244 effective words/s\n",
      "INFO - 08:50:41: EPOCH 32: training on 44363 raw words (22567 effective words) took 0.0s, 796532 effective words/s\n",
      "INFO - 08:50:41: EPOCH 33: training on 44363 raw words (22699 effective words) took 0.0s, 690846 effective words/s\n",
      "INFO - 08:50:41: EPOCH 34: training on 44363 raw words (22715 effective words) took 0.0s, 776775 effective words/s\n",
      "INFO - 08:50:41: EPOCH 35: training on 44363 raw words (22743 effective words) took 0.0s, 761205 effective words/s\n",
      "INFO - 08:50:41: EPOCH 36: training on 44363 raw words (22639 effective words) took 0.0s, 779638 effective words/s\n",
      "INFO - 08:50:41: EPOCH 37: training on 44363 raw words (22647 effective words) took 0.0s, 808108 effective words/s\n",
      "INFO - 08:50:41: EPOCH 38: training on 44363 raw words (22662 effective words) took 0.0s, 813145 effective words/s\n",
      "INFO - 08:50:41: EPOCH 39: training on 44363 raw words (22658 effective words) took 0.0s, 712004 effective words/s\n",
      "INFO - 08:50:41: EPOCH 40: training on 44363 raw words (22662 effective words) took 0.0s, 804361 effective words/s\n",
      "INFO - 08:50:41: EPOCH 41: training on 44363 raw words (22743 effective words) took 0.0s, 829474 effective words/s\n",
      "INFO - 08:50:41: EPOCH 42: training on 44363 raw words (22629 effective words) took 0.0s, 816223 effective words/s\n",
      "INFO - 08:50:41: EPOCH 43: training on 44363 raw words (22723 effective words) took 0.0s, 822577 effective words/s\n",
      "INFO - 08:50:41: EPOCH 44: training on 44363 raw words (22740 effective words) took 0.0s, 774721 effective words/s\n",
      "INFO - 08:50:41: EPOCH 45: training on 44363 raw words (22670 effective words) took 0.0s, 782924 effective words/s\n",
      "INFO - 08:50:41: EPOCH 46: training on 44363 raw words (22642 effective words) took 0.0s, 692882 effective words/s\n",
      "INFO - 08:50:41: EPOCH 47: training on 44363 raw words (22710 effective words) took 0.0s, 706975 effective words/s\n",
      "INFO - 08:50:42: EPOCH 48: training on 44363 raw words (22676 effective words) took 0.0s, 813514 effective words/s\n",
      "INFO - 08:50:42: EPOCH 49: training on 44363 raw words (22664 effective words) took 0.0s, 821964 effective words/s\n",
      "INFO - 08:50:42: EPOCH 50: training on 44363 raw words (22785 effective words) took 0.0s, 701097 effective words/s\n",
      "INFO - 08:50:42: EPOCH 51: training on 44363 raw words (22693 effective words) took 0.0s, 693750 effective words/s\n",
      "INFO - 08:50:42: EPOCH 52: training on 44363 raw words (22679 effective words) took 0.0s, 792326 effective words/s\n",
      "INFO - 08:50:42: EPOCH 53: training on 44363 raw words (22676 effective words) took 0.0s, 831291 effective words/s\n",
      "INFO - 08:50:42: EPOCH 54: training on 44363 raw words (22615 effective words) took 0.0s, 832284 effective words/s\n",
      "INFO - 08:50:42: EPOCH 55: training on 44363 raw words (22769 effective words) took 0.0s, 815447 effective words/s\n",
      "INFO - 08:50:42: EPOCH 56: training on 44363 raw words (22764 effective words) took 0.0s, 687126 effective words/s\n",
      "INFO - 08:50:42: EPOCH 57: training on 44363 raw words (22770 effective words) took 0.0s, 689829 effective words/s\n",
      "INFO - 08:50:42: EPOCH 58: training on 44363 raw words (22733 effective words) took 0.0s, 781246 effective words/s\n",
      "INFO - 08:50:42: EPOCH 59: training on 44363 raw words (22771 effective words) took 0.0s, 819797 effective words/s\n",
      "INFO - 08:50:42: EPOCH 60: training on 44363 raw words (22766 effective words) took 0.0s, 832526 effective words/s\n",
      "INFO - 08:50:42: EPOCH 61: training on 44363 raw words (22717 effective words) took 0.0s, 828184 effective words/s\n",
      "INFO - 08:50:42: EPOCH 62: training on 44363 raw words (22715 effective words) took 0.0s, 812805 effective words/s\n",
      "INFO - 08:50:42: EPOCH 63: training on 44363 raw words (22739 effective words) took 0.0s, 694003 effective words/s\n",
      "INFO - 08:50:42: EPOCH 64: training on 44363 raw words (22755 effective words) took 0.0s, 834953 effective words/s\n",
      "INFO - 08:50:42: EPOCH 65: training on 44363 raw words (22670 effective words) took 0.0s, 834012 effective words/s\n",
      "INFO - 08:50:42: EPOCH 66: training on 44363 raw words (22748 effective words) took 0.0s, 836466 effective words/s\n",
      "INFO - 08:50:42: EPOCH 67: training on 44363 raw words (22741 effective words) took 0.0s, 835493 effective words/s\n"
     ]
    },
    {
     "name": "stderr",
     "output_type": "stream",
     "text": [
      "INFO - 08:50:42: EPOCH 68: training on 44363 raw words (22804 effective words) took 0.0s, 881552 effective words/s\n",
      "INFO - 08:50:42: EPOCH 69: training on 44363 raw words (22754 effective words) took 0.0s, 822353 effective words/s\n",
      "INFO - 08:50:42: EPOCH 70: training on 44363 raw words (22677 effective words) took 0.0s, 689820 effective words/s\n",
      "INFO - 08:50:42: EPOCH 71: training on 44363 raw words (22650 effective words) took 0.0s, 850326 effective words/s\n",
      "INFO - 08:50:42: EPOCH 72: training on 44363 raw words (22675 effective words) took 0.0s, 698421 effective words/s\n",
      "INFO - 08:50:42: EPOCH 73: training on 44363 raw words (22769 effective words) took 0.0s, 846525 effective words/s\n",
      "INFO - 08:50:42: EPOCH 74: training on 44363 raw words (22702 effective words) took 0.0s, 849746 effective words/s\n",
      "INFO - 08:50:42: EPOCH 75: training on 44363 raw words (22677 effective words) took 0.0s, 785692 effective words/s\n",
      "INFO - 08:50:43: EPOCH 76: training on 44363 raw words (22634 effective words) took 0.0s, 854721 effective words/s\n",
      "INFO - 08:50:43: EPOCH 77: training on 44363 raw words (22722 effective words) took 0.0s, 707728 effective words/s\n",
      "INFO - 08:50:43: EPOCH 78: training on 44363 raw words (22690 effective words) took 0.0s, 847140 effective words/s\n",
      "INFO - 08:50:43: EPOCH 79: training on 44363 raw words (22758 effective words) took 0.0s, 842319 effective words/s\n",
      "INFO - 08:50:43: EPOCH 80: training on 44363 raw words (22763 effective words) took 0.0s, 862209 effective words/s\n",
      "INFO - 08:50:43: EPOCH 81: training on 44363 raw words (22841 effective words) took 0.0s, 700536 effective words/s\n",
      "INFO - 08:50:43: EPOCH 82: training on 44363 raw words (22633 effective words) took 0.0s, 840569 effective words/s\n",
      "INFO - 08:50:43: EPOCH 83: training on 44363 raw words (22689 effective words) took 0.0s, 709391 effective words/s\n",
      "INFO - 08:50:43: EPOCH 84: training on 44363 raw words (22709 effective words) took 0.0s, 835804 effective words/s\n",
      "INFO - 08:50:43: EPOCH 85: training on 44363 raw words (22667 effective words) took 0.0s, 697263 effective words/s\n",
      "INFO - 08:50:43: EPOCH 86: training on 44363 raw words (22808 effective words) took 0.0s, 844096 effective words/s\n",
      "INFO - 08:50:43: EPOCH 87: training on 44363 raw words (22673 effective words) took 0.0s, 846198 effective words/s\n",
      "INFO - 08:50:43: EPOCH 88: training on 44363 raw words (22671 effective words) took 0.0s, 838087 effective words/s\n",
      "INFO - 08:50:43: EPOCH 89: training on 44363 raw words (22696 effective words) took 0.0s, 865024 effective words/s\n",
      "INFO - 08:50:43: EPOCH 90: training on 44363 raw words (22646 effective words) took 0.0s, 820049 effective words/s\n",
      "INFO - 08:50:43: EPOCH 91: training on 44363 raw words (22768 effective words) took 0.0s, 724264 effective words/s\n",
      "INFO - 08:50:43: EPOCH 92: training on 44363 raw words (22747 effective words) took 0.0s, 802536 effective words/s\n",
      "INFO - 08:50:43: EPOCH 93: training on 44363 raw words (22733 effective words) took 0.0s, 709752 effective words/s\n",
      "INFO - 08:50:43: EPOCH 94: training on 44363 raw words (22736 effective words) took 0.0s, 831301 effective words/s\n",
      "INFO - 08:50:43: EPOCH 95: training on 44363 raw words (22748 effective words) took 0.0s, 856212 effective words/s\n",
      "INFO - 08:50:43: EPOCH 96: training on 44363 raw words (22681 effective words) took 0.0s, 848956 effective words/s\n",
      "INFO - 08:50:43: EPOCH 97: training on 44363 raw words (22774 effective words) took 0.0s, 863529 effective words/s\n",
      "INFO - 08:50:43: EPOCH 98: training on 44363 raw words (22718 effective words) took 0.0s, 830730 effective words/s\n",
      "INFO - 08:50:43: EPOCH 99: training on 44363 raw words (22677 effective words) took 0.0s, 860584 effective words/s\n",
      "INFO - 08:50:43: Word2Vec lifecycle event {'msg': 'training on 4436300 raw words (2270614 effective words) took 3.6s, 633610 effective words/s', 'datetime': '2024-01-29T08:50:43.820054', 'gensim': '4.3.2', 'python': '3.10.6 (main, Oct  7 2022, 20:19:58) [GCC 11.2.0]', 'platform': 'Linux-6.5.0-15-generic-x86_64-with-glibc2.35', 'event': 'train'}\n"
     ]
    },
    {
     "data": {
      "text/plain": [
       "(2270614, 4436300)"
      ]
     },
     "execution_count": 17,
     "metadata": {},
     "output_type": "execute_result"
    }
   ],
   "source": [
    "w2v_model.train(tokenized_df, total_examples=w2v_model.corpus_count, epochs=100, report_delay=1)"
   ]
  },
  {
   "cell_type": "code",
   "execution_count": 18,
   "id": "3ac958c7",
   "metadata": {},
   "outputs": [
    {
     "name": "stderr",
     "output_type": "stream",
     "text": [
      "INFO - 08:50:43: Word2Vec lifecycle event {'fname_or_handle': './models/darija.wordvectors', 'separately': 'None', 'sep_limit': 10485760, 'ignore': frozenset(), 'datetime': '2024-01-29T08:50:43.823750', 'gensim': '4.3.2', 'python': '3.10.6 (main, Oct  7 2022, 20:19:58) [GCC 11.2.0]', 'platform': 'Linux-6.5.0-15-generic-x86_64-with-glibc2.35', 'event': 'saving'}\n",
      "INFO - 08:50:43: not storing attribute cum_table\n",
      "INFO - 08:50:43: saved ./models/darija.wordvectors\n"
     ]
    }
   ],
   "source": [
    "w2v_model.save(\"./models/darija.wordvectors\")"
   ]
  },
  {
   "cell_type": "markdown",
   "id": "621e61c3",
   "metadata": {},
   "source": [
    "### Vocabulary"
   ]
  },
  {
   "cell_type": "code",
   "execution_count": 19,
   "id": "73ee939a",
   "metadata": {},
   "outputs": [],
   "source": [
    "vocab=w2v_model.wv.index_to_key"
   ]
  },
  {
   "cell_type": "code",
   "execution_count": 20,
   "id": "eef04592",
   "metadata": {},
   "outputs": [
    {
     "data": {
      "text/plain": [
       "['wach', 'o', 'dyal', 'f', 'ghadi', 'ana', 'chi', 'l', '3la', 'mn']"
      ]
     },
     "execution_count": 20,
     "metadata": {},
     "output_type": "execute_result"
    }
   ],
   "source": [
    "vocab[:10]"
   ]
  },
  {
   "cell_type": "markdown",
   "id": "873abec9",
   "metadata": {},
   "source": [
    "### Similarity between two words"
   ]
  },
  {
   "cell_type": "code",
   "execution_count": 27,
   "id": "6ec2c4b6",
   "metadata": {},
   "outputs": [],
   "source": [
    "pairs=[\n",
    "    ('ana', 'nta'),\n",
    "    ('dyalk', 'dyali'),\n",
    "    ('ana', 'dyalk'),\n",
    "    ('nta', 'dyalk'),\n",
    "    ('ana', 'dyali'),\n",
    "    ('nta', 'dyali'),\n",
    "]"
   ]
  },
  {
   "cell_type": "code",
   "execution_count": 28,
   "id": "07092266",
   "metadata": {},
   "outputs": [
    {
     "name": "stdout",
     "output_type": "stream",
     "text": [
      "ana\tnta\t0.3794109523296356\n",
      "dyalk\tdyali\t0.27547550201416016\n",
      "ana\tdyalk\t0.08148553967475891\n",
      "nta\tdyalk\t0.11093845963478088\n",
      "ana\tdyali\t0.19451108574867249\n",
      "nta\tdyali\t0.017103344202041626\n"
     ]
    }
   ],
   "source": [
    "for w1,w2 in pairs:\n",
    "    print(f'{w1}\\t{w2}\\t{w2v_model.wv.similarity(w1,w2)}')"
   ]
  },
  {
   "cell_type": "code",
   "execution_count": 29,
   "id": "892c6152",
   "metadata": {},
   "outputs": [
    {
     "data": {
      "text/plain": [
       "'dyali'"
      ]
     },
     "execution_count": 29,
     "metadata": {},
     "output_type": "execute_result"
    }
   ],
   "source": [
    "w2v_model.wv.doesnt_match(['dyali','nta','ana'])"
   ]
  },
  {
   "cell_type": "code",
   "execution_count": 30,
   "id": "c8270bb0",
   "metadata": {},
   "outputs": [
    {
     "data": {
      "text/plain": [
       "'ana'"
      ]
     },
     "execution_count": 30,
     "metadata": {},
     "output_type": "execute_result"
    }
   ],
   "source": [
    "w2v_model.wv.doesnt_match(['dyali','dyalk','ana'])"
   ]
  },
  {
   "cell_type": "code",
   "execution_count": null,
   "id": "e86cff56",
   "metadata": {},
   "outputs": [],
   "source": []
  }
 ],
 "metadata": {
  "kernelspec": {
   "display_name": "Python 3 (ipykernel)",
   "language": "python",
   "name": "python3"
  },
  "language_info": {
   "codemirror_mode": {
    "name": "ipython",
    "version": 3
   },
   "file_extension": ".py",
   "mimetype": "text/x-python",
   "name": "python",
   "nbconvert_exporter": "python",
   "pygments_lexer": "ipython3",
   "version": "3.10.6"
  }
 },
 "nbformat": 4,
 "nbformat_minor": 5
}
